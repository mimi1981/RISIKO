{
 "cells": [
  {
   "cell_type": "markdown",
   "id": "d80f64de",
   "metadata": {},
   "source": [
    "# Risiko! (the probabilities of)\n",
    "\n",
    "### Author: By Michel Tsamados\n",
    "### Date: August 2023 in Genoa and Corsica\n",
    "\n",
    "Inspired by my epic battles (and losses!) against the master of the game Tommaso Manacorda, his son Arturo Manacorda, my son Marius Tsamados and occasionally Tommaso's wife Marina. \n"
   ]
  },
  {
   "cell_type": "code",
   "execution_count": 272,
   "id": "c9f0ce1d",
   "metadata": {},
   "outputs": [],
   "source": [
    "#Old code suggested by ChatGPT\n",
    "\n",
    "# import itertools\n",
    "\n",
    "# def calculate_probabilities_3_beating_2():\n",
    "#     total_outcomes = 0\n",
    "#     favorable_outcomes = 0\n",
    "\n",
    "#     for dice_3 in range(1, 7):\n",
    "#         for dice_2 in range(1, 7):\n",
    "#             for dice_1 in range(1, 7):\n",
    "#                 for dice_a in range(1, 7):\n",
    "#                     for dice_b in range(1, 7):\n",
    "#                         print(dice_3, dice_2, dice_1)\n",
    "#                         total_outcomes += 1\n",
    "#                         sum_3_dice = dice_1 + dice_2 + dice_3\n",
    "#                         sum_2_dice = dice_a + dice_b\n",
    "\n",
    "#                         if sum_3_dice > sum_2_dice:\n",
    "#                             favorable_outcomes += 1\n",
    "\n",
    "#     probability = favorable_outcomes / total_outcomes\n",
    "#     return probability\n",
    "\n",
    "# result = calculate_probabilities()\n",
    "# print(\"Probability of 3 dice beating 2 dice:\", result)"
   ]
  },
  {
   "cell_type": "code",
   "execution_count": 368,
   "id": "553671b4",
   "metadata": {},
   "outputs": [
    {
     "name": "stdout",
     "output_type": "stream",
     "text": [
      "Ranked values in decreasing order: [15, 12, 8]\n"
     ]
    }
   ],
   "source": [
    "def rank_decreasing_order_3(a, b, c):\n",
    "    values = [a, b, c]\n",
    "    values.sort(reverse=True)  # Sort the list in descending order\n",
    "    return values\n",
    "\n",
    "value1 = 15\n",
    "value2 = 8\n",
    "value3 = 12\n",
    "\n",
    "ranked_values = rank_decreasing_order_3(value1, value2, value3)\n",
    "print(\"Ranked values in decreasing order:\", ranked_values)"
   ]
  },
  {
   "cell_type": "code",
   "execution_count": 369,
   "id": "5a4c4298",
   "metadata": {},
   "outputs": [
    {
     "name": "stdout",
     "output_type": "stream",
     "text": [
      "Ranked values in decreasing order: [15, 8]\n"
     ]
    }
   ],
   "source": [
    "def rank_decreasing_order_2(a, b):\n",
    "    values = [a, b]\n",
    "    values.sort(reverse=True)  # Sort the list in descending order\n",
    "    return values\n",
    "\n",
    "value1 = 15\n",
    "value2 = 8\n",
    "\n",
    "ranked_values = rank_decreasing_order_2(value1, value2)\n",
    "print(\"Ranked values in decreasing order:\", ranked_values)"
   ]
  },
  {
   "cell_type": "markdown",
   "id": "e57f7c2e",
   "metadata": {},
   "source": [
    "### In the Italian version of Risk (Risiko!) the 3 v 3 battles are allowed and are the most common in fights between large armies and therefore in all the calculations below we take this as the default building block. In the normal Risk defenders uses 2 armies vs 3 and so you can use the commented code below instead. Make sure you change the probabilities in that case and the code below. "
   ]
  },
  {
   "cell_type": "code",
   "execution_count": 370,
   "id": "eb093775",
   "metadata": {},
   "outputs": [],
   "source": [
    "# #3 v 2 probabilities \n",
    "\n",
    "# import itertools\n",
    "\n",
    "# def calculate_probabilities_3_v_2():\n",
    "#     total_outcomes = 0\n",
    "#     ww = 0\n",
    "#     wl = 0\n",
    "#     ll = 0\n",
    "#     lw = 0\n",
    "\n",
    "#     for dice_3 in range(1, 7):\n",
    "#         for dice_2 in range(1, 7):\n",
    "#             for dice_1 in range(1, 7):\n",
    "#                 for dice_a in range(1, 7):\n",
    "#                     for dice_b in range(1, 7):\n",
    "#                         rank3=rank_decreasing_order_3(dice_3,dice_2,dice_1)\n",
    "#                         rank2=rank_decreasing_order_2(dice_a,dice_b)\n",
    "\n",
    "\n",
    "#                         total_outcomes += 1\n",
    "\n",
    "#                         if ((rank3[0]>rank2[0])&(rank3[1]>rank2[1])):\n",
    "#                             ww += 1\n",
    "#                         elif ((rank3[0]<=rank2[0])&(rank3[1]<=rank2[1])):\n",
    "#                             ll += 1\n",
    "#                         elif ((rank3[0]<=rank2[0])&(rank3[1]>rank2[1])):\n",
    "#                             lw += 1\n",
    "#                         elif ((rank3[0]>rank2[0])&(rank3[1]<=rank2[1])):\n",
    "#                             lw += 1   \n",
    "                      \n",
    "\n",
    "#     p_ww = ww / total_outcomes\n",
    "#     p_ll = ll / total_outcomes\n",
    "#     p_lw = lw / total_outcomes\n",
    "\n",
    "\n",
    "                    \n",
    "#     return p_ww, p_ll, p_lw\n",
    "\n",
    "# p_ww, p_ll, p_lw = calculate_probabilities_3_v_2()\n",
    "# print(\"Probability of 3 vs 2 dices:\", p_ww, p_ll, p_ll, \"sum= \", p_ww+p_ll+p_lw)\n",
    "# # Probability of 3 vs 2 dices: 0.37165637860082307 0.2925668724279835 0.2925668724279835 sum=  1.0"
   ]
  },
  {
   "cell_type": "code",
   "execution_count": 371,
   "id": "29f74666",
   "metadata": {},
   "outputs": [
    {
     "name": "stdout",
     "output_type": "stream",
     "text": [
      "Probability of 3 vs 3 dices: 0.1376028806584362 0.21469907407407407 0.2646604938271605 0.3830375514403292 sum=  1.0\n"
     ]
    }
   ],
   "source": [
    "#3v3 probabilities \n",
    "\n",
    "import itertools\n",
    "import numpy as np \n",
    "\n",
    "def calculate_probabilities_3_v_3():\n",
    "    total_outcomes = 0\n",
    "    www = 0\n",
    "    wwl = 0\n",
    "    wll = 0\n",
    "    lll = 0\n",
    "\n",
    "    for dice_3 in range(1, 7):\n",
    "        for dice_2 in range(1, 7):\n",
    "            for dice_1 in range(1, 7):\n",
    "                for dice_a in range(1, 7):\n",
    "                    for dice_b in range(1, 7):\n",
    "                        for dice_c in range(1, 7):\n",
    "#                             print(dice_3,dice_2,dice_1,dice_a,dice_b,dice_c)\n",
    "\n",
    "                            rank3a=rank_decreasing_order_3(dice_3,dice_2,dice_1)\n",
    "                            rank3b=rank_decreasing_order_3(dice_a,dice_b,dice_c)\n",
    "\n",
    "\n",
    "                            total_outcomes += 1\n",
    "\n",
    "                            if ((rank3a[0]>rank3b[0])&(rank3a[1]>rank3b[1])&(rank3a[2]>rank3b[2])):\n",
    "                                www += 1\n",
    "                            elif ((rank3a[0]>rank3b[0])&(rank3a[1]>rank3b[1])&(rank3a[2]<=rank3b[2])):\n",
    "                                wwl += 1\n",
    "                            elif ((rank3a[0]>rank3b[0])&(rank3a[1]<=rank3b[1])&(rank3a[2]>rank3b[2])):\n",
    "                                wwl += 1\n",
    "                            elif ((rank3a[0]<=rank3b[0])&(rank3a[1]>rank3b[1])&(rank3a[2]>rank3b[2])):\n",
    "                                wwl += 1\n",
    "                            elif ((rank3a[0]>rank3b[0])&(rank3a[1]<=rank3b[1])&(rank3a[2]<=rank3b[2])):\n",
    "                                wll += 1\n",
    "                            elif ((rank3a[0]<=rank3b[0])&(rank3a[1]>rank3b[1])&(rank3a[2]<=rank3b[2])):\n",
    "                                wll += 1  \n",
    "                            elif ((rank3a[0]<=rank3b[0])&(rank3a[1]<=rank3b[1])&(rank3a[2]>rank3b[2])):\n",
    "                                wll += 1        \n",
    "                            elif ((rank3a[0]<=rank3b[0])&(rank3a[1]<=rank3b[1])&(rank3a[2]<=rank3b[2])):\n",
    "                                lll += 1    \n",
    "    p_www = www / total_outcomes\n",
    "    p_wwl = wwl / total_outcomes\n",
    "    p_wll = wll / total_outcomes\n",
    "    p_lll = lll / total_outcomes\n",
    "\n",
    "\n",
    "\n",
    "                    \n",
    "    return p_www, p_wwl, p_wll, p_lll\n",
    "\n",
    "p_www, p_wwl, p_wll, p_lll = calculate_probabilities_3_v_3()\n",
    "import random\n",
    "print(\"Probability of 3 vs 3 dices:\", p_www, p_wwl, p_wll, p_lll, \"sum= \", p_www+p_wwl+p_wll+p_lll)"
   ]
  },
  {
   "cell_type": "markdown",
   "id": "60eea264",
   "metadata": {},
   "source": [
    "### Based on the 3 v 3 probability above we will use these as below \n",
    "\n",
    "Probability of 3 vs 3 dices: 0.1376028806584362 0.21469907407407407 0.2646604938271605 0.3830375514403292 sum=  1.0\n",
    "\n",
    "- P(Attacker to win win win) = p_www ~ 13.7%\n",
    "- P(Attacker to win win lose) = p_wwl ~ 21.5%\n",
    "- P(Attacker to win lose lose) = p_wll ~ 26.5%\n",
    "- P(Attacker to lose lose lose) = p_lll ~ 38.3%\n",
    "\n",
    "\n"
   ]
  },
  {
   "cell_type": "code",
   "execution_count": 366,
   "id": "faffe1e3",
   "metadata": {},
   "outputs": [],
   "source": [
    "#Check that probabilities well implemented in run below \n",
    "# 98 56 0 final 0.10204081632653061 0.21428571428571427 0.2857142857142857 0.3979591836734694 1.0\n"
   ]
  },
  {
   "cell_type": "markdown",
   "id": "60811db5",
   "metadata": {},
   "source": [
    "### Below we assume the following rules\n",
    "\n",
    "- the attacker stops their attack when the ratio of his armies (na) to the defender's (nd) is less than stop_ratio = 1.5\n",
    "- the defender's number of armies (nd) is less than (<) 3"
   ]
  },
  {
   "cell_type": "code",
   "execution_count": 372,
   "id": "ad847042",
   "metadata": {},
   "outputs": [],
   "source": [
    "#Na vs Nd battle\n",
    "\n",
    "import random\n",
    "\n",
    "stop_ratio=1.5\n",
    "\n",
    "def calculate_probabilities_n_v_m(na,nd):\n",
    "    www=0\n",
    "    wwl=0\n",
    "    wll=0\n",
    "    lll=0\n",
    "    ntot=0\n",
    "    for i in range (1,na+nd+1):\n",
    "        print(i,na,nd)\n",
    "        ntot+=1\n",
    "        r = random.random()\n",
    "        if r<p_www: #www\n",
    "            www+=1\n",
    "            nd=nd-3\n",
    "            if (nd<3)|(na<nd*stop_ratio):\n",
    "                if nd<0:\n",
    "                    nd=0\n",
    "                print(i,na,nd,'final', www/ntot, wwl/ntot, wll/ntot, lll/ntot,(www+wwl+wll+lll)/ntot)\n",
    "                return na, nd, i\n",
    "                exit\n",
    "        elif ((r>=p_www)&(r<p_www+p_wwl)): #wwl\n",
    "            wwl+=1\n",
    "            nd=nd-2\n",
    "            na=na-1\n",
    "            if (nd<3)|(na<nd*stop_ratio):\n",
    "                if nd<0:\n",
    "                    nd=0\n",
    "                print(i,na,nd,'final', www/ntot, wwl/ntot, wll/ntot, lll/ntot,(www+wwl+wll+lll)/ntot)\n",
    "                return na, nd, i\n",
    "                exit\n",
    "        elif ((r>=p_www+p_wwl)&(r<p_www+p_wwl+p_wll)): #wll\n",
    "            wll+=1\n",
    "            nd=nd-1\n",
    "            na=na-2\n",
    "            if (nd<3)|(na<nd*stop_ratio):\n",
    "                print(i,na,nd,'final', www/ntot, wwl/ntot, wll/ntot, lll/ntot,(www+wwl+wll+lll)/ntot)\n",
    "                return na, nd, i\n",
    "                exit\n",
    "        elif ((r>=p_www+p_wwl+p_wll)&(r<p_www+p_wwl+p_wll+p_lll)): #lll\n",
    "            lll+=1\n",
    "            na=na-3\n",
    "            if (nd<3)|(na<nd*stop_ratio):\n",
    "                print(i,na,nd,'final', www/ntot, wwl/ntot, wll/ntot, lll/ntot,(www+wwl+wll+lll)/ntot)\n",
    "                return na, nd, i\n",
    "                exit\n",
    "    "
   ]
  },
  {
   "cell_type": "markdown",
   "id": "2c9c303f",
   "metadata": {},
   "source": [
    "### Here we do ntot simulations of wars between na attacking armies and nd defending armies and we record the final na, nd and number of battles in each war"
   ]
  },
  {
   "cell_type": "code",
   "execution_count": 373,
   "id": "5a9729af",
   "metadata": {},
   "outputs": [
    {
     "name": "stdout",
     "output_type": "stream",
     "text": [
      "1 10 5\n",
      "1 7 5 final 0.0 0.0 0.0 1.0 1.0\n",
      "1 10 5\n",
      "1 7 5 final 0.0 0.0 0.0 1.0 1.0\n",
      "1 10 5\n",
      "1 7 5 final 0.0 0.0 0.0 1.0 1.0\n",
      "1 10 5\n",
      "1 7 5 final 0.0 0.0 0.0 1.0 1.0\n",
      "1 10 5\n",
      "2 8 4\n",
      "3 6 3\n",
      "3 3 3 final 0.0 0.0 0.6666666666666666 0.3333333333333333 1.0\n",
      "1 10 5\n",
      "2 9 3\n",
      "3 6 3\n",
      "3 3 3 final 0.0 0.3333333333333333 0.0 0.6666666666666666 1.0\n",
      "1 10 5\n",
      "2 8 4\n",
      "2 5 4 final 0.0 0.0 0.5 0.5 1.0\n",
      "1 10 5\n",
      "2 9 3\n",
      "2 8 1 final 0.0 1.0 0.0 0.0 1.0\n",
      "1 10 5\n",
      "1 10 2 final 1.0 0.0 0.0 0.0 1.0\n",
      "1 10 5\n",
      "2 9 3\n",
      "3 6 3\n",
      "3 4 2 final 0.0 0.3333333333333333 0.3333333333333333 0.3333333333333333 1.0\n",
      "1 10 5\n",
      "2 9 3\n",
      "3 6 3\n",
      "3 3 3 final 0.0 0.3333333333333333 0.0 0.6666666666666666 1.0\n",
      "1 10 5\n",
      "1 7 5 final 0.0 0.0 0.0 1.0 1.0\n",
      "1 10 5\n",
      "1 7 5 final 0.0 0.0 0.0 1.0 1.0\n",
      "1 10 5\n",
      "1 7 5 final 0.0 0.0 0.0 1.0 1.0\n",
      "1 10 5\n",
      "2 8 4\n",
      "2 8 1 final 0.5 0.0 0.5 0.0 1.0\n",
      "1 10 5\n",
      "1 7 5 final 0.0 0.0 0.0 1.0 1.0\n",
      "1 10 5\n",
      "2 8 4\n",
      "3 6 3\n",
      "3 4 2 final 0.0 0.0 1.0 0.0 1.0\n",
      "1 10 5\n",
      "2 9 3\n",
      "3 6 3\n",
      "3 3 3 final 0.0 0.3333333333333333 0.0 0.6666666666666666 1.0\n",
      "1 10 5\n",
      "2 8 4\n",
      "3 6 3\n",
      "3 6 0 final 0.3333333333333333 0.0 0.6666666666666666 0.0 1.0\n",
      "1 10 5\n",
      "1 7 5 final 0.0 0.0 0.0 1.0 1.0\n",
      "1 10 5\n",
      "1 10 2 final 1.0 0.0 0.0 0.0 1.0\n",
      "1 10 5\n",
      "2 8 4\n",
      "2 5 4 final 0.0 0.0 0.5 0.5 1.0\n",
      "1 10 5\n",
      "2 9 3\n",
      "2 7 2 final 0.0 0.5 0.5 0.0 1.0\n",
      "1 10 5\n",
      "2 8 4\n",
      "2 5 4 final 0.0 0.0 0.5 0.5 1.0\n",
      "1 10 5\n",
      "1 10 2 final 1.0 0.0 0.0 0.0 1.0\n",
      "1 10 5\n",
      "2 9 3\n",
      "2 8 1 final 0.0 1.0 0.0 0.0 1.0\n",
      "1 10 5\n",
      "1 7 5 final 0.0 0.0 0.0 1.0 1.0\n",
      "1 10 5\n",
      "2 8 4\n",
      "2 7 2 final 0.0 0.5 0.5 0.0 1.0\n",
      "1 10 5\n",
      "1 7 5 final 0.0 0.0 0.0 1.0 1.0\n",
      "1 10 5\n",
      "2 9 3\n",
      "2 9 0 final 0.5 0.5 0.0 0.0 1.0\n",
      "1 10 5\n",
      "1 7 5 final 0.0 0.0 0.0 1.0 1.0\n",
      "1 10 5\n",
      "1 7 5 final 0.0 0.0 0.0 1.0 1.0\n",
      "1 10 5\n",
      "2 8 4\n",
      "3 6 3\n",
      "3 3 3 final 0.0 0.0 0.6666666666666666 0.3333333333333333 1.0\n",
      "1 10 5\n",
      "2 9 3\n",
      "2 7 2 final 0.0 0.5 0.5 0.0 1.0\n",
      "1 10 5\n",
      "1 10 2 final 1.0 0.0 0.0 0.0 1.0\n",
      "1 10 5\n",
      "2 9 3\n",
      "2 8 1 final 0.0 1.0 0.0 0.0 1.0\n",
      "1 10 5\n",
      "2 9 3\n",
      "2 7 2 final 0.0 0.5 0.5 0.0 1.0\n",
      "1 10 5\n",
      "1 7 5 final 0.0 0.0 0.0 1.0 1.0\n",
      "1 10 5\n",
      "1 10 2 final 1.0 0.0 0.0 0.0 1.0\n",
      "1 10 5\n",
      "1 10 2 final 1.0 0.0 0.0 0.0 1.0\n",
      "1 10 5\n",
      "2 8 4\n",
      "2 5 4 final 0.0 0.0 0.5 0.5 1.0\n",
      "1 10 5\n",
      "2 8 4\n",
      "2 8 1 final 0.5 0.0 0.5 0.0 1.0\n",
      "1 10 5\n",
      "1 7 5 final 0.0 0.0 0.0 1.0 1.0\n",
      "1 10 5\n",
      "2 9 3\n",
      "3 6 3\n",
      "3 3 3 final 0.0 0.3333333333333333 0.0 0.6666666666666666 1.0\n",
      "1 10 5\n",
      "2 9 3\n",
      "2 8 1 final 0.0 1.0 0.0 0.0 1.0\n",
      "1 10 5\n",
      "1 10 2 final 1.0 0.0 0.0 0.0 1.0\n",
      "1 10 5\n",
      "2 8 4\n",
      "2 8 1 final 0.5 0.0 0.5 0.0 1.0\n",
      "1 10 5\n",
      "1 7 5 final 0.0 0.0 0.0 1.0 1.0\n",
      "1 10 5\n",
      "2 9 3\n",
      "2 8 1 final 0.0 1.0 0.0 0.0 1.0\n",
      "1 10 5\n",
      "2 8 4\n",
      "2 7 2 final 0.0 0.5 0.5 0.0 1.0\n",
      "1 10 5\n",
      "1 7 5 final 0.0 0.0 0.0 1.0 1.0\n",
      "1 10 5\n",
      "1 7 5 final 0.0 0.0 0.0 1.0 1.0\n",
      "1 10 5\n",
      "1 7 5 final 0.0 0.0 0.0 1.0 1.0\n",
      "1 10 5\n",
      "2 9 3\n",
      "2 7 2 final 0.0 0.5 0.5 0.0 1.0\n",
      "1 10 5\n",
      "1 7 5 final 0.0 0.0 0.0 1.0 1.0\n",
      "1 10 5\n",
      "1 7 5 final 0.0 0.0 0.0 1.0 1.0\n",
      "1 10 5\n",
      "2 8 4\n",
      "2 7 2 final 0.0 0.5 0.5 0.0 1.0\n",
      "1 10 5\n",
      "2 8 4\n",
      "2 7 2 final 0.0 0.5 0.5 0.0 1.0\n",
      "1 10 5\n",
      "2 8 4\n",
      "2 5 4 final 0.0 0.0 0.5 0.5 1.0\n",
      "1 10 5\n",
      "2 8 4\n",
      "2 5 4 final 0.0 0.0 0.5 0.5 1.0\n",
      "1 10 5\n",
      "1 7 5 final 0.0 0.0 0.0 1.0 1.0\n",
      "1 10 5\n",
      "1 7 5 final 0.0 0.0 0.0 1.0 1.0\n",
      "1 10 5\n",
      "1 7 5 final 0.0 0.0 0.0 1.0 1.0\n",
      "1 10 5\n",
      "2 8 4\n",
      "3 6 3\n",
      "3 3 3 final 0.0 0.0 0.6666666666666666 0.3333333333333333 1.0\n",
      "1 10 5\n",
      "2 8 4\n",
      "2 5 4 final 0.0 0.0 0.5 0.5 1.0\n",
      "1 10 5\n",
      "1 7 5 final 0.0 0.0 0.0 1.0 1.0\n",
      "1 10 5\n",
      "2 8 4\n",
      "2 8 1 final 0.5 0.0 0.5 0.0 1.0\n",
      "1 10 5\n",
      "1 7 5 final 0.0 0.0 0.0 1.0 1.0\n",
      "1 10 5\n",
      "1 7 5 final 0.0 0.0 0.0 1.0 1.0\n",
      "1 10 5\n",
      "1 7 5 final 0.0 0.0 0.0 1.0 1.0\n",
      "1 10 5\n",
      "1 7 5 final 0.0 0.0 0.0 1.0 1.0\n",
      "1 10 5\n",
      "2 8 4\n",
      "2 5 4 final 0.0 0.0 0.5 0.5 1.0\n",
      "1 10 5\n",
      "1 7 5 final 0.0 0.0 0.0 1.0 1.0\n",
      "1 10 5\n",
      "2 8 4\n",
      "2 5 4 final 0.0 0.0 0.5 0.5 1.0\n",
      "1 10 5\n",
      "1 7 5 final 0.0 0.0 0.0 1.0 1.0\n",
      "1 10 5\n",
      "1 10 2 final 1.0 0.0 0.0 0.0 1.0\n",
      "1 10 5\n",
      "2 9 3\n",
      "3 6 3\n",
      "3 3 3 final 0.0 0.3333333333333333 0.0 0.6666666666666666 1.0\n",
      "1 10 5\n",
      "2 9 3\n",
      "2 8 1 final 0.0 1.0 0.0 0.0 1.0\n",
      "1 10 5\n",
      "2 8 4\n",
      "2 8 1 final 0.5 0.0 0.5 0.0 1.0\n",
      "1 10 5\n",
      "2 8 4\n",
      "3 6 3\n",
      "3 4 2 final 0.0 0.0 1.0 0.0 1.0\n",
      "1 10 5\n",
      "2 8 4\n",
      "2 8 1 final 0.5 0.0 0.5 0.0 1.0\n",
      "1 10 5\n",
      "1 7 5 final 0.0 0.0 0.0 1.0 1.0\n",
      "1 10 5\n",
      "1 7 5 final 0.0 0.0 0.0 1.0 1.0\n",
      "1 10 5\n",
      "2 9 3\n",
      "2 9 0 final 0.5 0.5 0.0 0.0 1.0\n",
      "1 10 5\n",
      "2 9 3\n",
      "3 6 3\n",
      "3 3 3 final 0.0 0.3333333333333333 0.0 0.6666666666666666 1.0\n",
      "1 10 5\n",
      "1 7 5 final 0.0 0.0 0.0 1.0 1.0\n",
      "1 10 5\n",
      "2 8 4\n",
      "2 5 4 final 0.0 0.0 0.5 0.5 1.0\n",
      "1 10 5\n",
      "2 8 4\n",
      "2 7 2 final 0.0 0.5 0.5 0.0 1.0\n",
      "1 10 5\n",
      "1 7 5 final 0.0 0.0 0.0 1.0 1.0\n",
      "1 10 5\n",
      "1 7 5 final 0.0 0.0 0.0 1.0 1.0\n",
      "1 10 5\n",
      "2 9 3\n",
      "3 6 3\n",
      "3 6 0 final 0.3333333333333333 0.3333333333333333 0.0 0.3333333333333333 1.0\n",
      "1 10 5\n",
      "1 7 5 final 0.0 0.0 0.0 1.0 1.0\n",
      "1 10 5\n",
      "2 9 3\n",
      "2 8 1 final 0.0 1.0 0.0 0.0 1.0\n",
      "1 10 5\n",
      "1 7 5 final 0.0 0.0 0.0 1.0 1.0\n",
      "1 10 5\n",
      "2 8 4\n",
      "2 5 4 final 0.0 0.0 0.5 0.5 1.0\n",
      "1 10 5\n",
      "2 9 3\n",
      "3 6 3\n",
      "3 4 2 final 0.0 0.3333333333333333 0.3333333333333333 0.3333333333333333 1.0\n",
      "1 10 5\n",
      "1 10 2 final 1.0 0.0 0.0 0.0 1.0\n",
      "1 10 5\n",
      "2 8 4\n",
      "2 5 4 final 0.0 0.0 0.5 0.5 1.0\n",
      "1 10 5\n",
      "1 7 5 final 0.0 0.0 0.0 1.0 1.0\n"
     ]
    }
   ],
   "source": [
    "outcomes=[]\n",
    "ntot=99 #number of simulated battles \n",
    "na=10 #number of attackers\n",
    "nd=5 #number of defenders\n",
    "\n",
    "for i in range (ntot):\n",
    "    outcomes.append(calculate_probabilities_n_v_m(na,nd))\n",
    "    \n",
    "outcomes_array=np.asarray(outcomes)"
   ]
  },
  {
   "cell_type": "code",
   "execution_count": 374,
   "id": "da29008f",
   "metadata": {},
   "outputs": [
    {
     "data": {
      "text/plain": [
       "[(7, 5, 1),\n",
       " (7, 5, 1),\n",
       " (7, 5, 1),\n",
       " (7, 5, 1),\n",
       " (3, 3, 3),\n",
       " (3, 3, 3),\n",
       " (5, 4, 2),\n",
       " (8, 1, 2),\n",
       " (10, 2, 1),\n",
       " (4, 2, 3),\n",
       " (3, 3, 3),\n",
       " (7, 5, 1),\n",
       " (7, 5, 1),\n",
       " (7, 5, 1),\n",
       " (8, 1, 2),\n",
       " (7, 5, 1),\n",
       " (4, 2, 3),\n",
       " (3, 3, 3),\n",
       " (6, 0, 3),\n",
       " (7, 5, 1),\n",
       " (10, 2, 1),\n",
       " (5, 4, 2),\n",
       " (7, 2, 2),\n",
       " (5, 4, 2),\n",
       " (10, 2, 1),\n",
       " (8, 1, 2),\n",
       " (7, 5, 1),\n",
       " (7, 2, 2),\n",
       " (7, 5, 1),\n",
       " (9, 0, 2),\n",
       " (7, 5, 1),\n",
       " (7, 5, 1),\n",
       " (3, 3, 3),\n",
       " (7, 2, 2),\n",
       " (10, 2, 1),\n",
       " (8, 1, 2),\n",
       " (7, 2, 2),\n",
       " (7, 5, 1),\n",
       " (10, 2, 1),\n",
       " (10, 2, 1),\n",
       " (5, 4, 2),\n",
       " (8, 1, 2),\n",
       " (7, 5, 1),\n",
       " (3, 3, 3),\n",
       " (8, 1, 2),\n",
       " (10, 2, 1),\n",
       " (8, 1, 2),\n",
       " (7, 5, 1),\n",
       " (8, 1, 2),\n",
       " (7, 2, 2),\n",
       " (7, 5, 1),\n",
       " (7, 5, 1),\n",
       " (7, 5, 1),\n",
       " (7, 2, 2),\n",
       " (7, 5, 1),\n",
       " (7, 5, 1),\n",
       " (7, 2, 2),\n",
       " (7, 2, 2),\n",
       " (5, 4, 2),\n",
       " (5, 4, 2),\n",
       " (7, 5, 1),\n",
       " (7, 5, 1),\n",
       " (7, 5, 1),\n",
       " (3, 3, 3),\n",
       " (5, 4, 2),\n",
       " (7, 5, 1),\n",
       " (8, 1, 2),\n",
       " (7, 5, 1),\n",
       " (7, 5, 1),\n",
       " (7, 5, 1),\n",
       " (7, 5, 1),\n",
       " (5, 4, 2),\n",
       " (7, 5, 1),\n",
       " (5, 4, 2),\n",
       " (7, 5, 1),\n",
       " (10, 2, 1),\n",
       " (3, 3, 3),\n",
       " (8, 1, 2),\n",
       " (8, 1, 2),\n",
       " (4, 2, 3),\n",
       " (8, 1, 2),\n",
       " (7, 5, 1),\n",
       " (7, 5, 1),\n",
       " (9, 0, 2),\n",
       " (3, 3, 3),\n",
       " (7, 5, 1),\n",
       " (5, 4, 2),\n",
       " (7, 2, 2),\n",
       " (7, 5, 1),\n",
       " (7, 5, 1),\n",
       " (6, 0, 3),\n",
       " (7, 5, 1),\n",
       " (8, 1, 2),\n",
       " (7, 5, 1),\n",
       " (5, 4, 2),\n",
       " (4, 2, 3),\n",
       " (10, 2, 1),\n",
       " (5, 4, 2),\n",
       " (7, 5, 1)]"
      ]
     },
     "execution_count": 374,
     "metadata": {},
     "output_type": "execute_result"
    }
   ],
   "source": [
    "outcomes"
   ]
  },
  {
   "cell_type": "code",
   "execution_count": 375,
   "id": "ab7eb472",
   "metadata": {},
   "outputs": [],
   "source": [
    "# Calculate the 2D histogram\n",
    "\n",
    "import numpy as np\n",
    "\n",
    "nabins = np.linspace(0, na, na+1) \n",
    "ndbins = np.linspace(0, nd, nd+1) \n",
    "hist, _, _ = np.histogram2d(outcomes_array[:,0], outcomes_array[:,1], bins=[nabins, ndbins])\n",
    "hist_log = np.log10(hist + 1)  # Adding 1 to avoid taking log of zero\n"
   ]
  },
  {
   "cell_type": "markdown",
   "id": "66b67b82",
   "metadata": {},
   "source": [
    "### Mean and Standard deviation of final number of armies "
   ]
  },
  {
   "cell_type": "code",
   "execution_count": 351,
   "id": "5ea245d0",
   "metadata": {},
   "outputs": [
    {
     "name": "stdout",
     "output_type": "stream",
     "text": [
      "6.8686868686868685 1.7212073789473252\n",
      "3.313131313131313 1.673600513780561\n"
     ]
    }
   ],
   "source": [
    "print(np.mean(outcomes_array[:,0]),np.std(outcomes_array[:,0]))\n",
    "print(np.mean(outcomes_array[:,1]),np.std(outcomes_array[:,1]))"
   ]
  },
  {
   "cell_type": "markdown",
   "id": "cfb7aaa7",
   "metadata": {},
   "source": [
    "### The results shows this puzzling result where na and nd are not smoothly distributed with some values much less likely than others! "
   ]
  },
  {
   "cell_type": "markdown",
   "id": "9f8297ec",
   "metadata": {},
   "source": [
    "### Below distribution of number of attacking armies (na) at the end of the war"
   ]
  },
  {
   "cell_type": "code",
   "execution_count": 354,
   "id": "7ab42c98",
   "metadata": {},
   "outputs": [
    {
     "data": {
      "text/plain": [
       "(array([ 6.,  2., 15.,  1., 52.,  9., 14.]),\n",
       " array([ 3.,  4.,  5.,  6.,  7.,  8.,  9., 10.]),\n",
       " <BarContainer object of 7 artists>)"
      ]
     },
     "execution_count": 354,
     "metadata": {},
     "output_type": "execute_result"
    },
    {
     "data": {
      "image/png": "[encoded data removed]",
      "text/plain": [
       "<Figure size 640x480 with 1 Axes>"
      ]
     },
     "metadata": {},
     "output_type": "display_data"
    }
   ],
   "source": [
    "import matplotlib.pyplot as plt\n",
    "\n",
    "\n",
    "plt.hist(outcomes_array[:,0],bins=7) #100000\n",
    "\n"
   ]
  },
  {
   "cell_type": "markdown",
   "id": "19f8e51d",
   "metadata": {},
   "source": [
    "### Below distribution of number of defending armies (nd) at the end of the war"
   ]
  },
  {
   "cell_type": "code",
   "execution_count": 356,
   "id": "35e2fd5e",
   "metadata": {},
   "outputs": [
    {
     "data": {
      "text/plain": [
       "(array([ 4., 13., 24.,  6., 52.]),\n",
       " array([0., 1., 2., 3., 4., 5.]),\n",
       " <BarContainer object of 5 artists>)"
      ]
     },
     "execution_count": 356,
     "metadata": {},
     "output_type": "execute_result"
    },
    {
     "data": {
      "image/png": "[encoded data removed]",
      "text/plain": [
       "<Figure size 640x480 with 1 Axes>"
      ]
     },
     "metadata": {},
     "output_type": "display_data"
    }
   ],
   "source": [
    "plt.hist(outcomes_array[:,1],bins=5) #100000\n",
    "\n",
    "\n"
   ]
  },
  {
   "cell_type": "markdown",
   "id": "561092c3",
   "metadata": {},
   "source": [
    "### Below distribution of number of battles at the end of the war"
   ]
  },
  {
   "cell_type": "code",
   "execution_count": 359,
   "id": "027523eb",
   "metadata": {},
   "outputs": [
    {
     "data": {
      "text/plain": [
       "(array([52., 47.]), array([1., 2., 3.]), <BarContainer object of 2 artists>)"
      ]
     },
     "execution_count": 359,
     "metadata": {},
     "output_type": "execute_result"
    },
    {
     "data": {
      "image/png": "[encoded data removed]",
      "text/plain": [
       "<Figure size 640x480 with 1 Axes>"
      ]
     },
     "metadata": {},
     "output_type": "display_data"
    }
   ],
   "source": [
    "plt.hist(outcomes_array[:,2],bins=2) #100000\n",
    "\n"
   ]
  },
  {
   "cell_type": "code",
   "execution_count": null,
   "id": "a198e139",
   "metadata": {},
   "outputs": [],
   "source": []
  },
  {
   "cell_type": "code",
   "execution_count": 225,
   "id": "34d9c9ad",
   "metadata": {},
   "outputs": [
    {
     "data": {
      "text/plain": [
       "(array([1.700e+01, 0.000e+00, 5.900e+01, 0.000e+00, 0.000e+00, 1.030e+02,\n",
       "        0.000e+00, 0.000e+00, 0.000e+00, 0.000e+00, 0.000e+00, 2.800e+01,\n",
       "        0.000e+00, 0.000e+00, 1.370e+02, 0.000e+00, 0.000e+00, 2.100e+01,\n",
       "        0.000e+00, 0.000e+00, 0.000e+00, 0.000e+00, 0.000e+00, 2.370e+02,\n",
       "        0.000e+00, 0.000e+00, 1.200e+01, 0.000e+00, 0.000e+00, 5.200e+01,\n",
       "        0.000e+00, 0.000e+00, 2.900e+02, 0.000e+00, 0.000e+00, 0.000e+00,\n",
       "        0.000e+00, 0.000e+00, 2.200e+01, 0.000e+00, 0.000e+00, 3.650e+02,\n",
       "        0.000e+00, 0.000e+00, 1.100e+01, 0.000e+00, 0.000e+00, 0.000e+00,\n",
       "        0.000e+00, 0.000e+00, 4.440e+02, 0.000e+00, 1.500e+01, 0.000e+00,\n",
       "        0.000e+00, 3.200e+01, 0.000e+00, 0.000e+00, 5.630e+02, 0.000e+00,\n",
       "        0.000e+00, 0.000e+00, 0.000e+00, 0.000e+00, 1.200e+01, 0.000e+00,\n",
       "        0.000e+00, 6.900e+02, 0.000e+00, 0.000e+00, 1.300e+01, 0.000e+00,\n",
       "        0.000e+00, 0.000e+00, 0.000e+00, 0.000e+00, 7.630e+02, 0.000e+00,\n",
       "        0.000e+00, 9.000e+00, 0.000e+00, 0.000e+00, 3.200e+01, 0.000e+00,\n",
       "        0.000e+00, 9.470e+02, 0.000e+00, 0.000e+00, 0.000e+00, 0.000e+00,\n",
       "        0.000e+00, 9.000e+00, 0.000e+00, 0.000e+00, 1.127e+03, 0.000e+00,\n",
       "        0.000e+00, 1.100e+01, 0.000e+00, 0.000e+00, 0.000e+00, 0.000e+00,\n",
       "        1.259e+03, 0.000e+00, 0.000e+00, 8.000e+00, 0.000e+00, 0.000e+00,\n",
       "        2.400e+01, 0.000e+00, 0.000e+00, 1.576e+03, 0.000e+00, 0.000e+00,\n",
       "        0.000e+00, 0.000e+00, 0.000e+00, 9.000e+00, 0.000e+00, 0.000e+00,\n",
       "        1.645e+03, 0.000e+00, 0.000e+00, 8.000e+00, 0.000e+00, 0.000e+00,\n",
       "        0.000e+00, 0.000e+00, 0.000e+00, 2.019e+03, 0.000e+00, 0.000e+00,\n",
       "        5.000e+00, 0.000e+00, 0.000e+00, 2.100e+01, 0.000e+00, 0.000e+00,\n",
       "        2.151e+03, 0.000e+00, 0.000e+00, 0.000e+00, 0.000e+00, 0.000e+00,\n",
       "        1.000e+01, 0.000e+00, 0.000e+00, 2.399e+03, 0.000e+00, 8.000e+00,\n",
       "        0.000e+00, 0.000e+00, 0.000e+00, 0.000e+00, 0.000e+00, 2.699e+03,\n",
       "        0.000e+00, 0.000e+00, 4.000e+00, 0.000e+00, 0.000e+00, 1.200e+01,\n",
       "        0.000e+00, 0.000e+00, 2.951e+03, 0.000e+00, 0.000e+00, 0.000e+00,\n",
       "        0.000e+00, 0.000e+00, 2.000e+00, 0.000e+00, 0.000e+00, 3.212e+03,\n",
       "        0.000e+00, 0.000e+00, 2.000e+00, 0.000e+00, 0.000e+00, 0.000e+00,\n",
       "        0.000e+00, 0.000e+00, 3.444e+03, 0.000e+00, 0.000e+00, 3.000e+00,\n",
       "        0.000e+00, 0.000e+00, 3.000e+00, 0.000e+00, 0.000e+00, 3.709e+03,\n",
       "        0.000e+00, 0.000e+00, 0.000e+00, 0.000e+00, 0.000e+00, 2.000e+00,\n",
       "        0.000e+00, 0.000e+00, 3.972e+03, 0.000e+00, 3.000e+00, 0.000e+00,\n",
       "        0.000e+00, 0.000e+00, 0.000e+00, 0.000e+00, 4.070e+03, 0.000e+00,\n",
       "        0.000e+00, 1.000e+00, 0.000e+00, 0.000e+00, 7.000e+00, 0.000e+00,\n",
       "        0.000e+00, 4.197e+03, 0.000e+00, 0.000e+00, 0.000e+00, 0.000e+00,\n",
       "        0.000e+00, 3.000e+00, 0.000e+00, 0.000e+00, 4.436e+03, 0.000e+00,\n",
       "        0.000e+00, 0.000e+00, 0.000e+00, 0.000e+00, 0.000e+00, 0.000e+00,\n",
       "        0.000e+00, 4.318e+03, 0.000e+00, 0.000e+00, 0.000e+00, 0.000e+00,\n",
       "        0.000e+00, 3.000e+00, 0.000e+00, 0.000e+00, 4.347e+03, 0.000e+00,\n",
       "        0.000e+00, 0.000e+00, 0.000e+00, 0.000e+00, 0.000e+00, 0.000e+00,\n",
       "        4.270e+03, 0.000e+00, 0.000e+00, 0.000e+00, 0.000e+00, 0.000e+00,\n",
       "        0.000e+00, 0.000e+00, 0.000e+00, 4.244e+03, 0.000e+00, 0.000e+00,\n",
       "        0.000e+00, 0.000e+00, 0.000e+00, 0.000e+00, 0.000e+00, 0.000e+00,\n",
       "        4.006e+03, 0.000e+00, 0.000e+00, 0.000e+00, 0.000e+00, 0.000e+00,\n",
       "        0.000e+00, 0.000e+00, 0.000e+00, 3.835e+03, 0.000e+00, 0.000e+00,\n",
       "        0.000e+00, 0.000e+00, 0.000e+00, 0.000e+00, 0.000e+00, 0.000e+00,\n",
       "        3.505e+03, 0.000e+00, 0.000e+00, 0.000e+00, 0.000e+00, 0.000e+00,\n",
       "        0.000e+00, 0.000e+00, 0.000e+00, 3.296e+03, 0.000e+00, 0.000e+00,\n",
       "        0.000e+00, 0.000e+00, 0.000e+00, 0.000e+00, 0.000e+00, 2.994e+03,\n",
       "        0.000e+00, 0.000e+00, 0.000e+00, 0.000e+00, 0.000e+00, 0.000e+00,\n",
       "        0.000e+00, 0.000e+00, 2.659e+03, 0.000e+00, 0.000e+00, 0.000e+00,\n",
       "        0.000e+00, 0.000e+00, 0.000e+00, 0.000e+00, 0.000e+00, 2.385e+03,\n",
       "        0.000e+00, 0.000e+00, 0.000e+00, 0.000e+00, 0.000e+00, 0.000e+00,\n",
       "        0.000e+00, 0.000e+00, 2.106e+03, 0.000e+00, 0.000e+00, 0.000e+00,\n",
       "        0.000e+00, 0.000e+00, 0.000e+00, 0.000e+00, 0.000e+00, 1.700e+03,\n",
       "        0.000e+00, 0.000e+00, 0.000e+00, 0.000e+00, 0.000e+00, 0.000e+00,\n",
       "        0.000e+00, 1.447e+03, 0.000e+00, 0.000e+00, 0.000e+00, 0.000e+00,\n",
       "        0.000e+00, 0.000e+00, 0.000e+00, 0.000e+00, 1.183e+03, 0.000e+00,\n",
       "        0.000e+00, 0.000e+00, 0.000e+00, 0.000e+00, 0.000e+00, 0.000e+00,\n",
       "        0.000e+00, 9.200e+02, 0.000e+00, 0.000e+00, 0.000e+00, 0.000e+00,\n",
       "        0.000e+00, 0.000e+00, 0.000e+00, 0.000e+00, 7.490e+02, 0.000e+00,\n",
       "        0.000e+00, 0.000e+00, 0.000e+00, 0.000e+00, 0.000e+00, 0.000e+00,\n",
       "        0.000e+00, 5.840e+02, 0.000e+00, 0.000e+00, 0.000e+00, 0.000e+00,\n",
       "        0.000e+00, 0.000e+00, 0.000e+00, 0.000e+00, 4.500e+02, 0.000e+00,\n",
       "        0.000e+00, 0.000e+00, 0.000e+00, 0.000e+00, 0.000e+00, 0.000e+00,\n",
       "        3.070e+02, 0.000e+00, 0.000e+00, 0.000e+00, 0.000e+00, 0.000e+00,\n",
       "        0.000e+00, 0.000e+00, 0.000e+00, 2.300e+02, 0.000e+00, 0.000e+00,\n",
       "        0.000e+00, 0.000e+00, 0.000e+00, 0.000e+00, 0.000e+00, 0.000e+00,\n",
       "        1.870e+02, 0.000e+00, 0.000e+00, 0.000e+00, 0.000e+00, 0.000e+00,\n",
       "        0.000e+00, 0.000e+00, 0.000e+00, 1.430e+02, 0.000e+00, 0.000e+00,\n",
       "        0.000e+00, 0.000e+00, 0.000e+00, 0.000e+00, 0.000e+00, 0.000e+00,\n",
       "        9.000e+01, 0.000e+00, 0.000e+00, 0.000e+00, 0.000e+00, 0.000e+00,\n",
       "        0.000e+00, 0.000e+00, 0.000e+00, 5.100e+01, 0.000e+00, 0.000e+00,\n",
       "        0.000e+00, 0.000e+00, 0.000e+00, 0.000e+00, 0.000e+00, 3.900e+01,\n",
       "        0.000e+00, 0.000e+00, 0.000e+00, 0.000e+00, 0.000e+00, 0.000e+00,\n",
       "        0.000e+00, 0.000e+00, 2.400e+01, 0.000e+00, 0.000e+00, 0.000e+00,\n",
       "        0.000e+00, 0.000e+00, 0.000e+00, 0.000e+00, 0.000e+00, 1.100e+01,\n",
       "        0.000e+00, 0.000e+00, 0.000e+00, 0.000e+00, 0.000e+00, 0.000e+00,\n",
       "        0.000e+00, 0.000e+00, 1.100e+01, 0.000e+00, 0.000e+00, 0.000e+00,\n",
       "        0.000e+00, 0.000e+00, 0.000e+00, 0.000e+00, 0.000e+00, 7.000e+00,\n",
       "        0.000e+00, 0.000e+00, 0.000e+00, 0.000e+00, 0.000e+00, 0.000e+00,\n",
       "        0.000e+00, 4.000e+00]),\n",
       " array([  0.  ,   0.34,   0.68,   1.02,   1.36,   1.7 ,   2.04,   2.38,\n",
       "          2.72,   3.06,   3.4 ,   3.74,   4.08,   4.42,   4.76,   5.1 ,\n",
       "          5.44,   5.78,   6.12,   6.46,   6.8 ,   7.14,   7.48,   7.82,\n",
       "          8.16,   8.5 ,   8.84,   9.18,   9.52,   9.86,  10.2 ,  10.54,\n",
       "         10.88,  11.22,  11.56,  11.9 ,  12.24,  12.58,  12.92,  13.26,\n",
       "         13.6 ,  13.94,  14.28,  14.62,  14.96,  15.3 ,  15.64,  15.98,\n",
       "         16.32,  16.66,  17.  ,  17.34,  17.68,  18.02,  18.36,  18.7 ,\n",
       "         19.04,  19.38,  19.72,  20.06,  20.4 ,  20.74,  21.08,  21.42,\n",
       "         21.76,  22.1 ,  22.44,  22.78,  23.12,  23.46,  23.8 ,  24.14,\n",
       "         24.48,  24.82,  25.16,  25.5 ,  25.84,  26.18,  26.52,  26.86,\n",
       "         27.2 ,  27.54,  27.88,  28.22,  28.56,  28.9 ,  29.24,  29.58,\n",
       "         29.92,  30.26,  30.6 ,  30.94,  31.28,  31.62,  31.96,  32.3 ,\n",
       "         32.64,  32.98,  33.32,  33.66,  34.  ,  34.34,  34.68,  35.02,\n",
       "         35.36,  35.7 ,  36.04,  36.38,  36.72,  37.06,  37.4 ,  37.74,\n",
       "         38.08,  38.42,  38.76,  39.1 ,  39.44,  39.78,  40.12,  40.46,\n",
       "         40.8 ,  41.14,  41.48,  41.82,  42.16,  42.5 ,  42.84,  43.18,\n",
       "         43.52,  43.86,  44.2 ,  44.54,  44.88,  45.22,  45.56,  45.9 ,\n",
       "         46.24,  46.58,  46.92,  47.26,  47.6 ,  47.94,  48.28,  48.62,\n",
       "         48.96,  49.3 ,  49.64,  49.98,  50.32,  50.66,  51.  ,  51.34,\n",
       "         51.68,  52.02,  52.36,  52.7 ,  53.04,  53.38,  53.72,  54.06,\n",
       "         54.4 ,  54.74,  55.08,  55.42,  55.76,  56.1 ,  56.44,  56.78,\n",
       "         57.12,  57.46,  57.8 ,  58.14,  58.48,  58.82,  59.16,  59.5 ,\n",
       "         59.84,  60.18,  60.52,  60.86,  61.2 ,  61.54,  61.88,  62.22,\n",
       "         62.56,  62.9 ,  63.24,  63.58,  63.92,  64.26,  64.6 ,  64.94,\n",
       "         65.28,  65.62,  65.96,  66.3 ,  66.64,  66.98,  67.32,  67.66,\n",
       "         68.  ,  68.34,  68.68,  69.02,  69.36,  69.7 ,  70.04,  70.38,\n",
       "         70.72,  71.06,  71.4 ,  71.74,  72.08,  72.42,  72.76,  73.1 ,\n",
       "         73.44,  73.78,  74.12,  74.46,  74.8 ,  75.14,  75.48,  75.82,\n",
       "         76.16,  76.5 ,  76.84,  77.18,  77.52,  77.86,  78.2 ,  78.54,\n",
       "         78.88,  79.22,  79.56,  79.9 ,  80.24,  80.58,  80.92,  81.26,\n",
       "         81.6 ,  81.94,  82.28,  82.62,  82.96,  83.3 ,  83.64,  83.98,\n",
       "         84.32,  84.66,  85.  ,  85.34,  85.68,  86.02,  86.36,  86.7 ,\n",
       "         87.04,  87.38,  87.72,  88.06,  88.4 ,  88.74,  89.08,  89.42,\n",
       "         89.76,  90.1 ,  90.44,  90.78,  91.12,  91.46,  91.8 ,  92.14,\n",
       "         92.48,  92.82,  93.16,  93.5 ,  93.84,  94.18,  94.52,  94.86,\n",
       "         95.2 ,  95.54,  95.88,  96.22,  96.56,  96.9 ,  97.24,  97.58,\n",
       "         97.92,  98.26,  98.6 ,  98.94,  99.28,  99.62,  99.96, 100.3 ,\n",
       "        100.64, 100.98, 101.32, 101.66, 102.  , 102.34, 102.68, 103.02,\n",
       "        103.36, 103.7 , 104.04, 104.38, 104.72, 105.06, 105.4 , 105.74,\n",
       "        106.08, 106.42, 106.76, 107.1 , 107.44, 107.78, 108.12, 108.46,\n",
       "        108.8 , 109.14, 109.48, 109.82, 110.16, 110.5 , 110.84, 111.18,\n",
       "        111.52, 111.86, 112.2 , 112.54, 112.88, 113.22, 113.56, 113.9 ,\n",
       "        114.24, 114.58, 114.92, 115.26, 115.6 , 115.94, 116.28, 116.62,\n",
       "        116.96, 117.3 , 117.64, 117.98, 118.32, 118.66, 119.  , 119.34,\n",
       "        119.68, 120.02, 120.36, 120.7 , 121.04, 121.38, 121.72, 122.06,\n",
       "        122.4 , 122.74, 123.08, 123.42, 123.76, 124.1 , 124.44, 124.78,\n",
       "        125.12, 125.46, 125.8 , 126.14, 126.48, 126.82, 127.16, 127.5 ,\n",
       "        127.84, 128.18, 128.52, 128.86, 129.2 , 129.54, 129.88, 130.22,\n",
       "        130.56, 130.9 , 131.24, 131.58, 131.92, 132.26, 132.6 , 132.94,\n",
       "        133.28, 133.62, 133.96, 134.3 , 134.64, 134.98, 135.32, 135.66,\n",
       "        136.  , 136.34, 136.68, 137.02, 137.36, 137.7 , 138.04, 138.38,\n",
       "        138.72, 139.06, 139.4 , 139.74, 140.08, 140.42, 140.76, 141.1 ,\n",
       "        141.44, 141.78, 142.12, 142.46, 142.8 , 143.14, 143.48, 143.82,\n",
       "        144.16, 144.5 , 144.84, 145.18, 145.52, 145.86, 146.2 , 146.54,\n",
       "        146.88, 147.22, 147.56, 147.9 , 148.24, 148.58, 148.92, 149.26,\n",
       "        149.6 , 149.94, 150.28, 150.62, 150.96, 151.3 , 151.64, 151.98,\n",
       "        152.32, 152.66, 153.  , 153.34, 153.68, 154.02, 154.36, 154.7 ,\n",
       "        155.04, 155.38, 155.72, 156.06, 156.4 , 156.74, 157.08, 157.42,\n",
       "        157.76, 158.1 , 158.44, 158.78, 159.12, 159.46, 159.8 , 160.14,\n",
       "        160.48, 160.82, 161.16, 161.5 , 161.84, 162.18, 162.52, 162.86,\n",
       "        163.2 , 163.54, 163.88, 164.22, 164.56, 164.9 , 165.24, 165.58,\n",
       "        165.92, 166.26, 166.6 , 166.94, 167.28, 167.62, 167.96, 168.3 ,\n",
       "        168.64, 168.98, 169.32, 169.66, 170.  ]),\n",
       " <BarContainer object of 500 artists>)"
      ]
     },
     "execution_count": 225,
     "metadata": {},
     "output_type": "execute_result"
    },
    {
     "data": {
      "image/png": "[encoded data removed]",
      "text/plain": [
       "<Figure size 640x480 with 1 Axes>"
      ]
     },
     "metadata": {},
     "output_type": "display_data"
    }
   ],
   "source": [
    "plt.hist(outcomes_array[:,0],bins=500) #100000\n",
    "\n"
   ]
  },
  {
   "cell_type": "code",
   "execution_count": 231,
   "id": "f0ca09ad",
   "metadata": {},
   "outputs": [
    {
     "data": {
      "text/plain": [
       "array([0, 0, 0, ..., 0, 0, 0])"
      ]
     },
     "execution_count": 231,
     "metadata": {},
     "output_type": "execute_result"
    }
   ],
   "source": [
    "outcomes_array[:,1]"
   ]
  },
  {
   "cell_type": "markdown",
   "id": "dc8a2df5",
   "metadata": {},
   "source": [
    "### Below joint probabilities of P(na_final, nd_final)"
   ]
  },
  {
   "cell_type": "code",
   "execution_count": 360,
   "id": "549b0eb4",
   "metadata": {},
   "outputs": [
    {
     "name": "stderr",
     "output_type": "stream",
     "text": [
      "No artists with labels found to put in legend.  Note that artists whose label start with an underscore are ignored when legend() is called with no argument.\n"
     ]
    },
    {
     "data": {
      "text/plain": [
       "<matplotlib.colorbar.Colorbar at 0x298c5e9d0>"
      ]
     },
     "execution_count": 360,
     "metadata": {},
     "output_type": "execute_result"
    },
    {
     "data": {
      "image/png": "[encoded data removed]",
      "text/plain": [
       "<Figure size 640x480 with 2 Axes>"
      ]
     },
     "metadata": {},
     "output_type": "display_data"
    }
   ],
   "source": [
    "plt.imshow(100*hist/ntot, label='% chance')\n",
    "plt.legend()\n",
    "plt.colorbar()\n",
    "\n"
   ]
  },
  {
   "cell_type": "code",
   "execution_count": 361,
   "id": "cb27ee18",
   "metadata": {},
   "outputs": [
    {
     "name": "stderr",
     "output_type": "stream",
     "text": [
      "No artists with labels found to put in legend.  Note that artists whose label start with an underscore are ignored when legend() is called with no argument.\n"
     ]
    },
    {
     "data": {
      "text/plain": [
       "<matplotlib.colorbar.Colorbar at 0x298caa210>"
      ]
     },
     "execution_count": 361,
     "metadata": {},
     "output_type": "execute_result"
    },
    {
     "data": {
      "image/png": "[encoded data removed]",
      "text/plain": [
       "<Figure size 640x480 with 2 Axes>"
      ]
     },
     "metadata": {},
     "output_type": "display_data"
    }
   ],
   "source": [
    "plt.imshow(hist_log, label='% chance')\n",
    "plt.legend()\n",
    "plt.colorbar()\n",
    "\n",
    "\n"
   ]
  },
  {
   "cell_type": "code",
   "execution_count": 124,
   "id": "e9ea107f",
   "metadata": {},
   "outputs": [
    {
     "data": {
      "text/plain": [
       "100.0"
      ]
     },
     "execution_count": 124,
     "metadata": {},
     "output_type": "execute_result"
    }
   ],
   "source": [
    "np.sum(100*hist/2000,axis=(0,1))"
   ]
  },
  {
   "cell_type": "code",
   "execution_count": 118,
   "id": "b94b4659",
   "metadata": {},
   "outputs": [
    {
     "data": {
      "text/plain": [
       "array([[  0.,  38.,   0.,   0.,   0.,   0.],\n",
       "       [ 51.,   0.,   0.,   0.,   0.,   0.],\n",
       "       [  0.,   0.,  59.,   0.,   0.,   0.],\n",
       "       [  0.,   0.,   0.,   0.,  25.,   0.],\n",
       "       [182.,   0.,   0.,  70.,   0.,   0.],\n",
       "       [  0.,   0.,   0.,   0.,   0.,  16.],\n",
       "       [  0.,   0.,   0.,   0.,   0.,   0.],\n",
       "       [245.,   0.,   0.,   0.,   0.,  16.],\n",
       "       [  0.,   0.,   0.,   0.,   0.,   0.],\n",
       "       [  0.,   0.,   0.,   0.,   0.,   0.],\n",
       "       [341.,   0.,   0.,   0.,   0.,   0.],\n",
       "       [  0.,   0.,   0.,   0.,   0.,   0.],\n",
       "       [  0.,   0.,   0.,   0.,   0.,   0.],\n",
       "       [378.,   0.,   0.,   0.,   0.,   0.],\n",
       "       [  0.,   0.,   0.,   0.,   0.,   0.],\n",
       "       [  0.,   0.,   0.,   0.,   0.,   0.],\n",
       "       [343.,   0.,   0.,   0.,   0.,   0.],\n",
       "       [  0.,   0.,   0.,   0.,   0.,   0.],\n",
       "       [  0.,   0.,   0.,   0.,   0.,   0.],\n",
       "       [196.,   0.,   0.,   0.,   0.,   0.],\n",
       "       [  0.,   0.,   0.,   0.,   0.,   0.],\n",
       "       [ 40.,   0.,   0.,   0.,   0.,   0.]])"
      ]
     },
     "execution_count": 118,
     "metadata": {},
     "output_type": "execute_result"
    }
   ],
   "source": [
    "hist"
   ]
  },
  {
   "cell_type": "code",
   "execution_count": null,
   "id": "4328f82d",
   "metadata": {},
   "outputs": [],
   "source": []
  },
  {
   "cell_type": "code",
   "execution_count": 40,
   "id": "934e70d8",
   "metadata": {},
   "outputs": [
    {
     "data": {
      "text/plain": [
       "(5, 4, 1)"
      ]
     },
     "execution_count": 40,
     "metadata": {},
     "output_type": "execute_result"
    }
   ],
   "source": [
    "calculate_probabilities_n_v_m(6,3)"
   ]
  },
  {
   "cell_type": "code",
   "execution_count": null,
   "id": "e1736d71",
   "metadata": {},
   "outputs": [],
   "source": []
  }
 ],
 "metadata": {
  "kernelspec": {
   "display_name": "Python 3 (ipykernel)",
   "language": "python",
   "name": "python3"
  },
  "language_info": {
   "codemirror_mode": {
    "name": "ipython",
    "version": 3
   },
   "file_extension": ".py",
   "mimetype": "text/x-python",
   "name": "python",
   "nbconvert_exporter": "python",
   "pygments_lexer": "ipython3",
   "version": "3.11.4"
  }
 },
 "nbformat": 4,
 "nbformat_minor": 5
}
